{
  "metadata": {
    "kernelspec": {
      "display_name": "Python 3",
      "name": "python3"
    },
    "language_info": {
      "name": "python",
      "version": "3.10.12",
      "mimetype": "text/x-python",
      "codemirror_mode": {
        "name": "ipython",
        "version": 3
      },
      "pygments_lexer": "ipython3",
      "nbconvert_exporter": "python",
      "file_extension": ".py"
    },
    "kaggle": {
      "accelerator": "none",
      "dataSources": [
        {
          "sourceId": 658267,
          "sourceType": "datasetVersion",
          "datasetId": 277323
        }
      ],
      "isInternetEnabled": true,
      "language": "python",
      "sourceType": "notebook",
      "isGpuEnabled": false
    },
    "colab": {
      "provenance": [],
      "machine_shape": "hm",
      "gpuType": "A100",
      "include_colab_link": true
    },
    "accelerator": "GPU"
  },
  "nbformat_minor": 0,
  "nbformat": 4,
  "cells": [
    {
      "cell_type": "markdown",
      "metadata": {
        "id": "view-in-github",
        "colab_type": "text"
      },
      "source": [
        "<a href=\"https://colab.research.google.com/github/hamidpeywasti/ML-From-Scratch/blob/master/plantvillage38_2path_lab.ipynb\" target=\"_parent\"><img src=\"https://colab.research.google.com/assets/colab-badge.svg\" alt=\"Open In Colab\"/></a>"
      ]
    },
    {
      "cell_type": "code",
      "source": [
        "monitor='val_accuracy'\n",
        "epochs=75\n",
        "batch_size=32\n",
        "input_shape=(224, 224, 3) # please resize it to (224,224,3) if you have enough RAM\n",
        "Verbose=True"
      ],
      "metadata": {
        "execution": {
          "iopub.status.busy": "2024-01-16T16:09:26.638887Z",
          "iopub.execute_input": "2024-01-16T16:09:26.639159Z",
          "iopub.status.idle": "2024-01-16T16:09:26.643425Z",
          "shell.execute_reply.started": "2024-01-16T16:09:26.639136Z",
          "shell.execute_reply": "2024-01-16T16:09:26.642538Z"
        },
        "trusted": true,
        "id": "CGLfniML5Kf2"
      },
      "execution_count": 1,
      "outputs": []
    },
    {
      "cell_type": "code",
      "source": [
        "#apt-get install git python3-opencv\n",
        "import os\n",
        "\n",
        "if not os.path.isdir('k'):\n",
        "  !git clone https://github.com/joaopauloschuler/k-neural-api.git k\n",
        "else:\n",
        "  !cd k && git pull\n",
        "\n",
        "!cd k && pip install .\n",
        "\n",
        "!rm -rf k"
      ],
      "metadata": {
        "execution": {
          "iopub.status.busy": "2024-01-16T16:09:42.427174Z",
          "iopub.execute_input": "2024-01-16T16:09:42.428087Z",
          "iopub.status.idle": "2024-01-16T16:10:02.388292Z",
          "shell.execute_reply.started": "2024-01-16T16:09:42.428051Z",
          "shell.execute_reply": "2024-01-16T16:10:02.387155Z"
        },
        "trusted": true,
        "colab": {
          "base_uri": "https://localhost:8080/"
        },
        "id": "FtYZq0MB5Kf4",
        "outputId": "0495ab3d-9cfc-480f-e00e-f2ac6136fc70"
      },
      "execution_count": 2,
      "outputs": [
        {
          "output_type": "stream",
          "name": "stdout",
          "text": [
            "Cloning into 'k'...\n",
            "remote: Enumerating objects: 1832, done.\u001b[K\n",
            "remote: Counting objects: 100% (244/244), done.\u001b[K\n",
            "remote: Compressing objects: 100% (169/169), done.\u001b[K\n",
            "remote: Total 1832 (delta 152), reused 152 (delta 71), pack-reused 1588\u001b[K\n",
            "Receiving objects: 100% (1832/1832), 15.73 MiB | 22.56 MiB/s, done.\n",
            "Resolving deltas: 100% (1265/1265), done.\n",
            "Processing /content/k\n",
            "  Preparing metadata (setup.py) ... \u001b[?25l\u001b[?25hdone\n",
            "Requirement already satisfied: pandas>=0.22.0 in /usr/local/lib/python3.10/dist-packages (from cai==0.1.7) (1.5.3)\n",
            "Requirement already satisfied: scikit-image>=0.15.0 in /usr/local/lib/python3.10/dist-packages (from cai==0.1.7) (0.19.3)\n",
            "Requirement already satisfied: opencv-python>=4.1.2.30 in /usr/local/lib/python3.10/dist-packages (from cai==0.1.7) (4.8.0.76)\n",
            "Requirement already satisfied: scikit-learn>=0.21.0 in /usr/local/lib/python3.10/dist-packages (from cai==0.1.7) (1.2.2)\n",
            "Requirement already satisfied: numpy in /usr/local/lib/python3.10/dist-packages (from cai==0.1.7) (1.23.5)\n",
            "Requirement already satisfied: python-dateutil>=2.8.1 in /usr/local/lib/python3.10/dist-packages (from pandas>=0.22.0->cai==0.1.7) (2.8.2)\n",
            "Requirement already satisfied: pytz>=2020.1 in /usr/local/lib/python3.10/dist-packages (from pandas>=0.22.0->cai==0.1.7) (2023.3.post1)\n",
            "Requirement already satisfied: scipy>=1.4.1 in /usr/local/lib/python3.10/dist-packages (from scikit-image>=0.15.0->cai==0.1.7) (1.11.4)\n",
            "Requirement already satisfied: networkx>=2.2 in /usr/local/lib/python3.10/dist-packages (from scikit-image>=0.15.0->cai==0.1.7) (3.2.1)\n",
            "Requirement already satisfied: pillow!=7.1.0,!=7.1.1,!=8.3.0,>=6.1.0 in /usr/local/lib/python3.10/dist-packages (from scikit-image>=0.15.0->cai==0.1.7) (9.4.0)\n",
            "Requirement already satisfied: imageio>=2.4.1 in /usr/local/lib/python3.10/dist-packages (from scikit-image>=0.15.0->cai==0.1.7) (2.31.6)\n",
            "Requirement already satisfied: tifffile>=2019.7.26 in /usr/local/lib/python3.10/dist-packages (from scikit-image>=0.15.0->cai==0.1.7) (2023.12.9)\n",
            "Requirement already satisfied: PyWavelets>=1.1.1 in /usr/local/lib/python3.10/dist-packages (from scikit-image>=0.15.0->cai==0.1.7) (1.5.0)\n",
            "Requirement already satisfied: packaging>=20.0 in /usr/local/lib/python3.10/dist-packages (from scikit-image>=0.15.0->cai==0.1.7) (23.2)\n",
            "Requirement already satisfied: joblib>=1.1.1 in /usr/local/lib/python3.10/dist-packages (from scikit-learn>=0.21.0->cai==0.1.7) (1.3.2)\n",
            "Requirement already satisfied: threadpoolctl>=2.0.0 in /usr/local/lib/python3.10/dist-packages (from scikit-learn>=0.21.0->cai==0.1.7) (3.2.0)\n",
            "Requirement already satisfied: six>=1.5 in /usr/local/lib/python3.10/dist-packages (from python-dateutil>=2.8.1->pandas>=0.22.0->cai==0.1.7) (1.16.0)\n",
            "Building wheels for collected packages: cai\n",
            "  Building wheel for cai (setup.py) ... \u001b[?25l\u001b[?25hdone\n",
            "  Created wheel for cai: filename=cai-0.1.7-py3-none-any.whl size=61376 sha256=01f4e506ee5c3b95d65c14d6c5532352a507f63f848afbfb8d8ad9b2183b6c62\n",
            "  Stored in directory: /tmp/pip-ephem-wheel-cache-uqey47b6/wheels/80/61/f5/947bedc7e497038def7d1381fb65d37bd126a80e010114b8f1\n",
            "Successfully built cai\n",
            "Installing collected packages: cai\n",
            "  Attempting uninstall: cai\n",
            "    Found existing installation: cai 0.1.7\n",
            "    Uninstalling cai-0.1.7:\n",
            "      Successfully uninstalled cai-0.1.7\n",
            "Successfully installed cai-0.1.7\n"
          ]
        }
      ]
    },
    {
      "cell_type": "code",
      "source": [
        "import sys\n",
        "print(\"Python version:\", sys.version)\n",
        "\n",
        "import skimage\n",
        "print('skimage:',  skimage.__version__)\n",
        "\n",
        "import tensorflow as tf\n",
        "print('Tensorflow:',tf.__version__)\n",
        "\n",
        "import cai\n",
        "import cai.datasets\n",
        "import cai.models\n",
        "\n",
        "import multiprocessing\n",
        "import os\n",
        "\n",
        "from sklearn.metrics import confusion_matrix\n",
        "from sklearn.metrics import classification_report\n",
        "\n",
        "import numpy as np\n",
        "import seaborn as sns\n",
        "\n",
        "import matplotlib.pyplot as plt\n",
        "%matplotlib inline"
      ],
      "metadata": {
        "execution": {
          "iopub.status.busy": "2024-01-16T16:10:09.367790Z",
          "iopub.execute_input": "2024-01-16T16:10:09.368193Z",
          "iopub.status.idle": "2024-01-16T16:10:22.155544Z",
          "shell.execute_reply.started": "2024-01-16T16:10:09.368161Z",
          "shell.execute_reply": "2024-01-16T16:10:22.154554Z"
        },
        "trusted": true,
        "colab": {
          "base_uri": "https://localhost:8080/"
        },
        "id": "WrnbgTg65Kf6",
        "outputId": "2a732e2d-41e4-4d18-b9da-b9f909a48799"
      },
      "execution_count": 3,
      "outputs": [
        {
          "output_type": "stream",
          "name": "stdout",
          "text": [
            "Python version: 3.10.12 (main, Nov 20 2023, 15:14:05) [GCC 11.4.0]\n",
            "skimage: 0.19.3\n",
            "Tensorflow: 2.15.0\n"
          ]
        }
      ]
    },
    {
      "cell_type": "code",
      "source": [
        "url_zip_file=\"https://data.mendeley.com/datasets/tywbtsjrjv/1/files/d5652a28-c1d8-4b76-97f3-72fb80f94efc/Plant_leaf_diseases_dataset_without_augmentation.zip?dl=1\"\n",
        "local_zip_file=\"plant_leaf.zip\"\n",
        "expected_folder_name=\"plant_leaf\"\n",
        "Verbose=True\n",
        "cai.datasets.download_zip_and_extract(\n",
        "    url_zip_file=url_zip_file, local_zip_file=local_zip_file,\n",
        "    expected_folder_name=expected_folder_name, Verbose=Verbose)"
      ],
      "metadata": {
        "colab": {
          "base_uri": "https://localhost:8080/"
        },
        "id": "5F3sWfC65mls",
        "outputId": "d5fd4673-ecf7-47c4-dca4-426465b73394"
      },
      "execution_count": 4,
      "outputs": [
        {
          "output_type": "stream",
          "name": "stdout",
          "text": [
            "Downloading:  https://data.mendeley.com/datasets/tywbtsjrjv/1/files/d5652a28-c1d8-4b76-97f3-72fb80f94efc/Plant_leaf_diseases_dataset_without_augmentation.zip?dl=1  to  plant_leaf.zip\n",
            "Decompressing into:  plant_leaf\n"
          ]
        }
      ]
    },
    {
      "cell_type": "code",
      "source": [
        "!rm -r plant_leaf/Plant_leave_diseases_dataset_without_augmentation/Background_without_leaves -R\n"
      ],
      "metadata": {
        "id": "Le_lQLZV54KK"
      },
      "execution_count": 5,
      "outputs": []
    },
    {
      "cell_type": "code",
      "source": [
        "data_dir = \"plant_leaf/Plant_leave_diseases_dataset_without_augmentation/\"\n",
        "\n",
        "label_of_classes = os.listdir(data_dir)\n",
        "print(\"Classes Lables:\", label_of_classes)\n",
        "\n",
        "number_of_classes = len(label_of_classes)\n",
        "print(\"Number of Classes:\", number_of_classes)"
      ],
      "metadata": {
        "execution": {
          "iopub.status.busy": "2024-01-16T16:10:22.157221Z",
          "iopub.execute_input": "2024-01-16T16:10:22.158215Z",
          "iopub.status.idle": "2024-01-16T16:10:22.168963Z",
          "shell.execute_reply.started": "2024-01-16T16:10:22.158175Z",
          "shell.execute_reply": "2024-01-16T16:10:22.167766Z"
        },
        "trusted": true,
        "colab": {
          "base_uri": "https://localhost:8080/"
        },
        "id": "YK753NvQ5Kf7",
        "outputId": "eedbddb9-5a4b-4757-808a-4cc770faa86a"
      },
      "execution_count": 4,
      "outputs": [
        {
          "output_type": "stream",
          "name": "stdout",
          "text": [
            "Classes Lables: ['Tomato___Tomato_mosaic_virus', 'Blueberry___healthy', 'Tomato___Septoria_leaf_spot', 'Tomato___Tomato_Yellow_Leaf_Curl_Virus', 'Strawberry___Leaf_scorch', 'Grape___Leaf_blight_(Isariopsis_Leaf_Spot)', 'Pepper,_bell___healthy', 'Potato___healthy', 'Strawberry___healthy', 'Soybean___healthy', 'Apple___Black_rot', 'Peach___healthy', 'Apple___Apple_scab', 'Potato___Late_blight', 'Corn___Cercospora_leaf_spot Gray_leaf_spot', 'Grape___Esca_(Black_Measles)', 'Grape___healthy', 'Corn___Northern_Leaf_Blight', 'Potato___Early_blight', 'Tomato___Leaf_Mold', 'Tomato___Spider_mites Two-spotted_spider_mite', 'Apple___Cedar_apple_rust', 'Orange___Haunglongbing_(Citrus_greening)', 'Squash___Powdery_mildew', 'Pepper,_bell___Bacterial_spot', 'Tomato___Target_Spot', 'Grape___Black_rot', 'Cherry___Powdery_mildew', 'Raspberry___healthy', 'Tomato___Bacterial_spot', 'Peach___Bacterial_spot', 'Tomato___Early_blight', 'Corn___Common_rust', 'Apple___healthy', 'Tomato___Late_blight', 'Tomato___healthy', 'Corn___healthy', 'Cherry___healthy']\n",
            "Number of Classes: 38\n"
          ]
        }
      ]
    },
    {
      "cell_type": "code",
      "source": [
        "train_x, val_x, test_x, train_y, val_y, test_y, classweight, classes = cai.datasets.load_images_from_folders(\n",
        "    seed=7,\n",
        "    root_dir=data_dir,\n",
        "    lab=True,\n",
        "    verbose=Verbose,\n",
        "    bipolar=False,\n",
        "    base_model_name='plant_leaf',\n",
        "    training_size=0.6,\n",
        "    validation_size=0.2,\n",
        "    test_size=0.2,\n",
        "    target_size=(input_shape[0],input_shape[1]),\n",
        "    has_training=True,\n",
        "    has_validation=True,\n",
        "    has_testing=True,\n",
        "    smart_resize=True\n",
        ")"
      ],
      "metadata": {
        "execution": {
          "iopub.status.busy": "2024-01-16T16:10:35.540448Z",
          "iopub.execute_input": "2024-01-16T16:10:35.540819Z",
          "iopub.status.idle": "2024-01-16T16:25:05.010567Z",
          "shell.execute_reply.started": "2024-01-16T16:10:35.540790Z",
          "shell.execute_reply": "2024-01-16T16:25:05.009595Z"
        },
        "trusted": true,
        "colab": {
          "base_uri": "https://localhost:8080/"
        },
        "id": "k_IoLCxw5Kf7",
        "outputId": "ee6de81f-3278-40ed-d782-9c5c2897bd8a"
      },
      "execution_count": 5,
      "outputs": [
        {
          "output_type": "stream",
          "name": "stdout",
          "text": [
            "Loading  38  classes.\n",
            "smart resize is enabled.\n",
            "loading train images\n",
            "train shape is: (32571, 224, 224, 3)\n",
            "loading validation images\n",
            "validation shape is: (10858, 224, 224, 3)\n",
            "loading test images\n",
            "test shape is: (10876, 224, 224, 3)\n",
            "Channel  0  min: 0.0  max: 1.0\n",
            "Channel  1  min: 0.20093757  max: 0.89584607\n",
            "Channel  2  min: 0.26732087  max: 0.94820774\n",
            "Loaded.\n"
          ]
        }
      ]
    },
    {
      "cell_type": "code",
      "source": [
        "print(train_x.shape,val_x.shape,test_x.shape)\n",
        "print(train_y.shape,val_y.shape,test_y.shape)"
      ],
      "metadata": {
        "execution": {
          "iopub.status.busy": "2024-01-16T16:38:38.053686Z",
          "iopub.execute_input": "2024-01-16T16:38:38.054074Z",
          "iopub.status.idle": "2024-01-16T16:38:38.059403Z",
          "shell.execute_reply.started": "2024-01-16T16:38:38.054043Z",
          "shell.execute_reply": "2024-01-16T16:38:38.058441Z"
        },
        "trusted": true,
        "colab": {
          "base_uri": "https://localhost:8080/"
        },
        "id": "Jl_3ak1R5Kf7",
        "outputId": "f4413d8d-1e9a-44b7-8ec5-6445942fffd5"
      },
      "execution_count": 6,
      "outputs": [
        {
          "output_type": "stream",
          "name": "stdout",
          "text": [
            "(32571, 224, 224, 3) (10858, 224, 224, 3) (10876, 224, 224, 3)\n",
            "(32571, 38) (10858, 38) (10876, 38)\n"
          ]
        }
      ]
    },
    {
      "cell_type": "code",
      "source": [
        "# FIT MODELS\n",
        "for l_ratio in [0.0]:\n",
        "\n",
        "    basefilename = 'PlantVillage-2Path-LAB-m4-' + str(l_ratio)\n",
        "    print('Running: '+basefilename)\n",
        "\n",
        "    model = cai.models.compiled_two_path_inception_v3(\n",
        "        input_shape=input_shape,\n",
        "        classes=number_of_classes,\n",
        "        two_paths_first_block=True,\n",
        "        two_paths_second_block=False,\n",
        "        l_ratio=l_ratio,\n",
        "        ab_ratio=(1-l_ratio),\n",
        "        max_mix_idx=4,\n",
        "        model_name='two_path_inception_v3'\n",
        "    )\n",
        "\n",
        "    best_result_file_name = basefilename+'-best_result.hdf5'\n",
        "\n",
        "    save_best = tf.keras.callbacks.ModelCheckpoint(\n",
        "        filepath=best_result_file_name,\n",
        "        monitor=monitor,\n",
        "        verbose=1,\n",
        "        save_best_only=True,\n",
        "        save_weights_only=False,\n",
        "        mode='max',\n",
        "        save_freq='epoch'\n",
        "    )\n",
        "\n",
        "    history = model.fit(\n",
        "        train_x,\n",
        "        train_y,\n",
        "        epochs=epochs,\n",
        "        batch_size=batch_size,\n",
        "        validation_data=(val_x,val_y),\n",
        "        callbacks=[save_best],\n",
        "        class_weight=classweight,\n",
        "        workers=multiprocessing.cpu_count()\n",
        "    )\n",
        "\n",
        "    print('Testing Last Model: '+basefilename)\n",
        "\n",
        "    evaluated = model.evaluate(test_x,test_y)\n",
        "\n",
        "    for metric, name in zip(evaluated,[\"loss\",\"acc\",\"top 5 acc\"]):\n",
        "        print(name,metric)\n",
        "\n",
        "#     print('Best Model Results: '+basefilename)\n",
        "\n",
        "#     model = tf.keras.models.load_model(\n",
        "#         best_result_file_name,\n",
        "#         custom_objects={'CopyChannels': cai.layers.CopyChannels}\n",
        "#     )\n",
        "\n",
        "#     evaluated = model.evaluate(test_x,test_y)\n",
        "\n",
        "#     cai.models.save_model(model, basefilename)\n",
        "\n",
        "#     for metric, name in zip(evaluated,[\"loss\",\"acc\",\"top 5 acc\"]):\n",
        "#         print(name,metric)\n",
        "\n",
        "    print('Finished: '+basefilename)"
      ],
      "metadata": {
        "execution": {
          "iopub.status.busy": "2024-01-15T20:52:57.916074Z",
          "iopub.execute_input": "2024-01-15T20:52:57.916341Z"
        },
        "trusted": true,
        "colab": {
          "base_uri": "https://localhost:8080/"
        },
        "id": "TyWf92hP5Kf8",
        "outputId": "d3591807-04fc-4fb7-f674-5caa1cb90246"
      },
      "execution_count": 7,
      "outputs": [
        {
          "output_type": "stream",
          "name": "stdout",
          "text": [
            "Running: PlantVillage-2Path-LAB-m4-0.0\n"
          ]
        },
        {
          "output_type": "stream",
          "name": "stderr",
          "text": [
            "WARNING:absl:`lr` is deprecated in Keras optimizer, please use `learning_rate` or use the legacy optimizer, e.g.,tf.keras.optimizers.legacy.SGD.\n"
          ]
        },
        {
          "output_type": "stream",
          "name": "stdout",
          "text": [
            "Epoch 1/75\n",
            "1018/1018 [==============================] - ETA: 0s - loss: 1.0425 - accuracy: 0.6803\n",
            "Epoch 1: val_accuracy improved from -inf to 0.43912, saving model to PlantVillage-2Path-LAB-m4-0.0-best_result.hdf5\n"
          ]
        },
        {
          "output_type": "stream",
          "name": "stderr",
          "text": [
            "/usr/local/lib/python3.10/dist-packages/keras/src/engine/training.py:3103: UserWarning: You are saving your model as an HDF5 file via `model.save()`. This file format is considered legacy. We recommend using instead the native Keras format, e.g. `model.save('my_model.keras')`.\n",
            "  saving_api.save_model(\n"
          ]
        },
        {
          "output_type": "stream",
          "name": "stdout",
          "text": [
            "\b\b\b\b\b\b\b\b\b\b\b\b\b\b\b\b\b\b\b\b\b\b\b\b\b\b\b\b\b\b\b\b\b\b\b\b\b\b\b\b\b\b\b\b\b\b\b\b\b\b\b\b\b\b\b\b\b\b\b\b\b\b\b\b\b\b\b\b\b\b\b\b\b\b\b\b\b\b\b\b\b\b\b\b\b\b\r1018/1018 [==============================] - 64s 50ms/step - loss: 1.0425 - accuracy: 0.6803 - val_loss: 2.2177 - val_accuracy: 0.4391\n",
            "Epoch 2/75\n",
            "1018/1018 [==============================] - ETA: 0s - loss: 0.3738 - accuracy: 0.8709\n",
            "Epoch 2: val_accuracy improved from 0.43912 to 0.77556, saving model to PlantVillage-2Path-LAB-m4-0.0-best_result.hdf5\n",
            "1018/1018 [==============================] - 37s 36ms/step - loss: 0.3738 - accuracy: 0.8709 - val_loss: 0.7259 - val_accuracy: 0.7756\n",
            "Epoch 3/75\n",
            "1017/1018 [============================>.] - ETA: 0s - loss: 0.2261 - accuracy: 0.9192\n",
            "Epoch 3: val_accuracy improved from 0.77556 to 0.78992, saving model to PlantVillage-2Path-LAB-m4-0.0-best_result.hdf5\n",
            "1018/1018 [==============================] - 38s 37ms/step - loss: 0.2261 - accuracy: 0.9192 - val_loss: 0.7316 - val_accuracy: 0.7899\n",
            "Epoch 4/75\n",
            "1017/1018 [============================>.] - ETA: 0s - loss: 0.1522 - accuracy: 0.9449\n",
            "Epoch 4: val_accuracy did not improve from 0.78992\n",
            "1018/1018 [==============================] - 37s 37ms/step - loss: 0.1523 - accuracy: 0.9449 - val_loss: 1.2183 - val_accuracy: 0.7046\n",
            "Epoch 5/75\n",
            "1017/1018 [============================>.] - ETA: 0s - loss: 0.1119 - accuracy: 0.9602\n",
            "Epoch 5: val_accuracy improved from 0.78992 to 0.93314, saving model to PlantVillage-2Path-LAB-m4-0.0-best_result.hdf5\n",
            "1018/1018 [==============================] - 38s 37ms/step - loss: 0.1121 - accuracy: 0.9601 - val_loss: 0.2047 - val_accuracy: 0.9331\n",
            "Epoch 6/75\n",
            "1017/1018 [============================>.] - ETA: 0s - loss: 0.1015 - accuracy: 0.9641\n",
            "Epoch 6: val_accuracy did not improve from 0.93314\n",
            "1018/1018 [==============================] - 37s 36ms/step - loss: 0.1015 - accuracy: 0.9641 - val_loss: 0.3917 - val_accuracy: 0.8708\n",
            "Epoch 7/75\n",
            "1017/1018 [============================>.] - ETA: 0s - loss: 0.0744 - accuracy: 0.9736\n",
            "Epoch 7: val_accuracy improved from 0.93314 to 0.95653, saving model to PlantVillage-2Path-LAB-m4-0.0-best_result.hdf5\n",
            "1018/1018 [==============================] - 37s 36ms/step - loss: 0.0745 - accuracy: 0.9736 - val_loss: 0.1284 - val_accuracy: 0.9565\n",
            "Epoch 8/75\n",
            "1017/1018 [============================>.] - ETA: 0s - loss: 0.0550 - accuracy: 0.9799\n",
            "Epoch 8: val_accuracy did not improve from 0.95653\n",
            "1018/1018 [==============================] - 37s 36ms/step - loss: 0.0550 - accuracy: 0.9799 - val_loss: 0.3578 - val_accuracy: 0.9015\n",
            "Epoch 9/75\n",
            "1017/1018 [============================>.] - ETA: 0s - loss: 0.0542 - accuracy: 0.9813\n",
            "Epoch 9: val_accuracy did not improve from 0.95653\n",
            "1018/1018 [==============================] - 37s 36ms/step - loss: 0.0542 - accuracy: 0.9813 - val_loss: 0.3223 - val_accuracy: 0.9049\n",
            "Epoch 10/75\n",
            "1017/1018 [============================>.] - ETA: 0s - loss: 0.0484 - accuracy: 0.9837\n",
            "Epoch 10: val_accuracy did not improve from 0.95653\n",
            "1018/1018 [==============================] - 37s 36ms/step - loss: 0.0483 - accuracy: 0.9837 - val_loss: 0.1919 - val_accuracy: 0.9423\n",
            "Epoch 11/75\n",
            "1017/1018 [============================>.] - ETA: 0s - loss: 0.0363 - accuracy: 0.9871\n",
            "Epoch 11: val_accuracy improved from 0.95653 to 0.97771, saving model to PlantVillage-2Path-LAB-m4-0.0-best_result.hdf5\n",
            "1018/1018 [==============================] - 38s 37ms/step - loss: 0.0363 - accuracy: 0.9871 - val_loss: 0.0691 - val_accuracy: 0.9777\n",
            "Epoch 12/75\n",
            "1017/1018 [============================>.] - ETA: 0s - loss: 0.0296 - accuracy: 0.9898\n",
            "Epoch 12: val_accuracy did not improve from 0.97771\n",
            "1018/1018 [==============================] - 37s 36ms/step - loss: 0.0296 - accuracy: 0.9898 - val_loss: 0.0756 - val_accuracy: 0.9761\n",
            "Epoch 13/75\n",
            "1017/1018 [============================>.] - ETA: 0s - loss: 0.0260 - accuracy: 0.9916\n",
            "Epoch 13: val_accuracy did not improve from 0.97771\n",
            "1018/1018 [==============================] - 37s 36ms/step - loss: 0.0260 - accuracy: 0.9916 - val_loss: 0.0994 - val_accuracy: 0.9668\n",
            "Epoch 14/75\n",
            "1017/1018 [============================>.] - ETA: 0s - loss: 0.0494 - accuracy: 0.9833\n",
            "Epoch 14: val_accuracy did not improve from 0.97771\n",
            "1018/1018 [==============================] - 37s 36ms/step - loss: 0.0493 - accuracy: 0.9834 - val_loss: 0.1524 - val_accuracy: 0.9547\n",
            "Epoch 15/75\n",
            "1017/1018 [============================>.] - ETA: 0s - loss: 0.0236 - accuracy: 0.9913\n",
            "Epoch 15: val_accuracy did not improve from 0.97771\n",
            "1018/1018 [==============================] - 37s 36ms/step - loss: 0.0236 - accuracy: 0.9913 - val_loss: 0.1091 - val_accuracy: 0.9668\n",
            "Epoch 16/75\n",
            "1018/1018 [==============================] - ETA: 0s - loss: 0.0272 - accuracy: 0.9900\n",
            "Epoch 16: val_accuracy did not improve from 0.97771\n",
            "1018/1018 [==============================] - 37s 37ms/step - loss: 0.0272 - accuracy: 0.9900 - val_loss: 0.0797 - val_accuracy: 0.9737\n",
            "Epoch 17/75\n",
            "1017/1018 [============================>.] - ETA: 0s - loss: 0.0261 - accuracy: 0.9907\n",
            "Epoch 17: val_accuracy did not improve from 0.97771\n",
            "1018/1018 [==============================] - 37s 37ms/step - loss: 0.0262 - accuracy: 0.9907 - val_loss: 0.1023 - val_accuracy: 0.9690\n",
            "Epoch 18/75\n",
            "1017/1018 [============================>.] - ETA: 0s - loss: 0.0186 - accuracy: 0.9941\n",
            "Epoch 18: val_accuracy did not improve from 0.97771\n",
            "1018/1018 [==============================] - 37s 36ms/step - loss: 0.0186 - accuracy: 0.9941 - val_loss: 0.1400 - val_accuracy: 0.9546\n",
            "Epoch 19/75\n",
            "1017/1018 [============================>.] - ETA: 0s - loss: 0.0121 - accuracy: 0.9962\n",
            "Epoch 19: val_accuracy improved from 0.97771 to 0.97854, saving model to PlantVillage-2Path-LAB-m4-0.0-best_result.hdf5\n",
            "1018/1018 [==============================] - 37s 37ms/step - loss: 0.0121 - accuracy: 0.9962 - val_loss: 0.0706 - val_accuracy: 0.9785\n",
            "Epoch 20/75\n",
            "1017/1018 [============================>.] - ETA: 0s - loss: 0.0105 - accuracy: 0.9967\n",
            "Epoch 20: val_accuracy did not improve from 0.97854\n",
            "1018/1018 [==============================] - 37s 36ms/step - loss: 0.0105 - accuracy: 0.9967 - val_loss: 0.0886 - val_accuracy: 0.9725\n",
            "Epoch 21/75\n",
            "1017/1018 [============================>.] - ETA: 0s - loss: 0.0110 - accuracy: 0.9961\n",
            "Epoch 21: val_accuracy improved from 0.97854 to 0.98803, saving model to PlantVillage-2Path-LAB-m4-0.0-best_result.hdf5\n",
            "1018/1018 [==============================] - 37s 37ms/step - loss: 0.0110 - accuracy: 0.9961 - val_loss: 0.0428 - val_accuracy: 0.9880\n",
            "Epoch 22/75\n",
            "1017/1018 [============================>.] - ETA: 0s - loss: 0.0091 - accuracy: 0.9977\n",
            "Epoch 22: val_accuracy improved from 0.98803 to 0.99042, saving model to PlantVillage-2Path-LAB-m4-0.0-best_result.hdf5\n",
            "1018/1018 [==============================] - 37s 37ms/step - loss: 0.0092 - accuracy: 0.9977 - val_loss: 0.0349 - val_accuracy: 0.9904\n",
            "Epoch 23/75\n",
            "1017/1018 [============================>.] - ETA: 0s - loss: 0.0106 - accuracy: 0.9967\n",
            "Epoch 23: val_accuracy did not improve from 0.99042\n",
            "1018/1018 [==============================] - 37s 37ms/step - loss: 0.0106 - accuracy: 0.9967 - val_loss: 0.0369 - val_accuracy: 0.9894\n",
            "Epoch 24/75\n",
            "1017/1018 [============================>.] - ETA: 0s - loss: 0.0126 - accuracy: 0.9960\n",
            "Epoch 24: val_accuracy did not improve from 0.99042\n",
            "1018/1018 [==============================] - 37s 36ms/step - loss: 0.0127 - accuracy: 0.9960 - val_loss: 0.0499 - val_accuracy: 0.9853\n",
            "Epoch 25/75\n",
            "1017/1018 [============================>.] - ETA: 0s - loss: 0.0082 - accuracy: 0.9980\n",
            "Epoch 25: val_accuracy did not improve from 0.99042\n",
            "1018/1018 [==============================] - 37s 36ms/step - loss: 0.0082 - accuracy: 0.9980 - val_loss: 0.0940 - val_accuracy: 0.9727\n",
            "Epoch 26/75\n",
            "1017/1018 [============================>.] - ETA: 0s - loss: 0.0090 - accuracy: 0.9975\n",
            "Epoch 26: val_accuracy improved from 0.99042 to 0.99079, saving model to PlantVillage-2Path-LAB-m4-0.0-best_result.hdf5\n",
            "1018/1018 [==============================] - 37s 37ms/step - loss: 0.0090 - accuracy: 0.9975 - val_loss: 0.0323 - val_accuracy: 0.9908\n",
            "Epoch 27/75\n",
            "1017/1018 [============================>.] - ETA: 0s - loss: 0.0135 - accuracy: 0.9964\n",
            "Epoch 27: val_accuracy did not improve from 0.99079\n",
            "1018/1018 [==============================] - 37s 37ms/step - loss: 0.0135 - accuracy: 0.9964 - val_loss: 0.1526 - val_accuracy: 0.9530\n",
            "Epoch 28/75\n",
            "1018/1018 [==============================] - ETA: 0s - loss: 0.0112 - accuracy: 0.9971\n",
            "Epoch 28: val_accuracy did not improve from 0.99079\n",
            "1018/1018 [==============================] - 57s 56ms/step - loss: 0.0112 - accuracy: 0.9971 - val_loss: 0.0848 - val_accuracy: 0.9751\n",
            "Epoch 29/75\n",
            "1017/1018 [============================>.] - ETA: 0s - loss: 0.0083 - accuracy: 0.9978\n",
            "Epoch 29: val_accuracy did not improve from 0.99079\n",
            "1018/1018 [==============================] - 67s 66ms/step - loss: 0.0083 - accuracy: 0.9978 - val_loss: 0.1047 - val_accuracy: 0.9698\n",
            "Epoch 30/75\n",
            "1017/1018 [============================>.] - ETA: 0s - loss: 0.0080 - accuracy: 0.9972\n",
            "Epoch 30: val_accuracy improved from 0.99079 to 0.99272, saving model to PlantVillage-2Path-LAB-m4-0.0-best_result.hdf5\n"
          ]
        },
        {
          "output_type": "stream",
          "name": "stderr",
          "text": [
            "/usr/local/lib/python3.10/dist-packages/keras/src/engine/training.py:3103: UserWarning: You are saving your model as an HDF5 file via `model.save()`. This file format is considered legacy. We recommend using instead the native Keras format, e.g. `model.save('my_model.keras')`.\n",
            "  saving_api.save_model(\n"
          ]
        },
        {
          "output_type": "stream",
          "name": "stdout",
          "text": [
            "\b\b\b\b\b\b\b\b\b\b\b\b\b\b\b\b\b\b\b\b\b\b\b\b\b\b\b\b\b\b\b\b\b\b\b\b\b\b\b\b\b\b\b\b\b\b\b\b\b\b\b\b\b\b\b\b\b\b\b\b\b\b\b\b\b\b\b\b\b\b\b\b\b\b\b\b\b\b\b\b\b\b\b\b\b\b\r1018/1018 [==============================] - 52s 51ms/step - loss: 0.0080 - accuracy: 0.9972 - val_loss: 0.0275 - val_accuracy: 0.9927\n",
            "Epoch 31/75\n",
            "1017/1018 [============================>.] - ETA: 0s - loss: 0.0042 - accuracy: 0.9988\n",
            "Epoch 31: val_accuracy did not improve from 0.99272\n",
            "1018/1018 [==============================] - 37s 37ms/step - loss: 0.0042 - accuracy: 0.9988 - val_loss: 0.0333 - val_accuracy: 0.9903\n",
            "Epoch 32/75\n",
            "1017/1018 [============================>.] - ETA: 0s - loss: 0.0040 - accuracy: 0.9990\n",
            "Epoch 32: val_accuracy did not improve from 0.99272\n",
            "1018/1018 [==============================] - 37s 37ms/step - loss: 0.0040 - accuracy: 0.9990 - val_loss: 0.0282 - val_accuracy: 0.9925\n",
            "Epoch 33/75\n",
            "1017/1018 [============================>.] - ETA: 0s - loss: 0.0030 - accuracy: 0.9993\n",
            "Epoch 33: val_accuracy did not improve from 0.99272\n",
            "1018/1018 [==============================] - 37s 36ms/step - loss: 0.0030 - accuracy: 0.9993 - val_loss: 0.0800 - val_accuracy: 0.9764\n",
            "Epoch 34/75\n",
            "1017/1018 [============================>.] - ETA: 0s - loss: 0.0040 - accuracy: 0.9991\n",
            "Epoch 34: val_accuracy did not improve from 0.99272\n",
            "1018/1018 [==============================] - 37s 36ms/step - loss: 0.0040 - accuracy: 0.9991 - val_loss: 0.0277 - val_accuracy: 0.9919\n",
            "Epoch 35/75\n",
            "1017/1018 [============================>.] - ETA: 0s - loss: 0.0044 - accuracy: 0.9987\n",
            "Epoch 35: val_accuracy improved from 0.99272 to 0.99309, saving model to PlantVillage-2Path-LAB-m4-0.0-best_result.hdf5\n",
            "1018/1018 [==============================] - 37s 37ms/step - loss: 0.0044 - accuracy: 0.9987 - val_loss: 0.0254 - val_accuracy: 0.9931\n",
            "Epoch 36/75\n",
            "1017/1018 [============================>.] - ETA: 0s - loss: 0.0023 - accuracy: 0.9994\n",
            "Epoch 36: val_accuracy improved from 0.99309 to 0.99355, saving model to PlantVillage-2Path-LAB-m4-0.0-best_result.hdf5\n",
            "1018/1018 [==============================] - 37s 37ms/step - loss: 0.0023 - accuracy: 0.9994 - val_loss: 0.0237 - val_accuracy: 0.9936\n",
            "Epoch 37/75\n",
            "1017/1018 [============================>.] - ETA: 0s - loss: 0.0026 - accuracy: 0.9993\n",
            "Epoch 37: val_accuracy did not improve from 0.99355\n",
            "1018/1018 [==============================] - 37s 36ms/step - loss: 0.0026 - accuracy: 0.9993 - val_loss: 0.0336 - val_accuracy: 0.9906\n",
            "Epoch 38/75\n",
            "1017/1018 [============================>.] - ETA: 0s - loss: 0.0048 - accuracy: 0.9985\n",
            "Epoch 38: val_accuracy did not improve from 0.99355\n",
            "1018/1018 [==============================] - 37s 37ms/step - loss: 0.0048 - accuracy: 0.9985 - val_loss: 0.0458 - val_accuracy: 0.9874\n",
            "Epoch 39/75\n",
            "1017/1018 [============================>.] - ETA: 0s - loss: 0.0023 - accuracy: 0.9994\n",
            "Epoch 39: val_accuracy did not improve from 0.99355\n",
            "1018/1018 [==============================] - 37s 36ms/step - loss: 0.0023 - accuracy: 0.9994 - val_loss: 0.0265 - val_accuracy: 0.9927\n",
            "Epoch 40/75\n",
            "1017/1018 [============================>.] - ETA: 0s - loss: 0.0014 - accuracy: 0.9997\n",
            "Epoch 40: val_accuracy did not improve from 0.99355\n",
            "1018/1018 [==============================] - 37s 36ms/step - loss: 0.0014 - accuracy: 0.9997 - val_loss: 0.0254 - val_accuracy: 0.9933\n",
            "Epoch 41/75\n",
            "1017/1018 [============================>.] - ETA: 0s - loss: 0.0012 - accuracy: 0.9998\n",
            "Epoch 41: val_accuracy improved from 0.99355 to 0.99438, saving model to PlantVillage-2Path-LAB-m4-0.0-best_result.hdf5\n",
            "1018/1018 [==============================] - 38s 37ms/step - loss: 0.0012 - accuracy: 0.9998 - val_loss: 0.0240 - val_accuracy: 0.9944\n",
            "Epoch 42/75\n",
            "1017/1018 [============================>.] - ETA: 0s - loss: 0.0014 - accuracy: 0.9997\n",
            "Epoch 42: val_accuracy did not improve from 0.99438\n",
            "1018/1018 [==============================] - 37s 37ms/step - loss: 0.0014 - accuracy: 0.9997 - val_loss: 0.0322 - val_accuracy: 0.9903\n",
            "Epoch 43/75\n",
            "1017/1018 [============================>.] - ETA: 0s - loss: 0.0016 - accuracy: 0.9997\n",
            "Epoch 43: val_accuracy did not improve from 0.99438\n",
            "1018/1018 [==============================] - 37s 36ms/step - loss: 0.0016 - accuracy: 0.9997 - val_loss: 0.0238 - val_accuracy: 0.9941\n",
            "Epoch 44/75\n",
            "1018/1018 [==============================] - ETA: 0s - loss: 0.0016 - accuracy: 0.9996\n",
            "Epoch 44: val_accuracy improved from 0.99438 to 0.99512, saving model to PlantVillage-2Path-LAB-m4-0.0-best_result.hdf5\n",
            "1018/1018 [==============================] - 37s 37ms/step - loss: 0.0016 - accuracy: 0.9996 - val_loss: 0.0216 - val_accuracy: 0.9951\n",
            "Epoch 45/75\n",
            "1017/1018 [============================>.] - ETA: 0s - loss: 0.0019 - accuracy: 0.9995\n",
            "Epoch 45: val_accuracy did not improve from 0.99512\n",
            "1018/1018 [==============================] - 37s 36ms/step - loss: 0.0019 - accuracy: 0.9995 - val_loss: 0.0268 - val_accuracy: 0.9925\n",
            "Epoch 46/75\n",
            "1017/1018 [============================>.] - ETA: 0s - loss: 0.0013 - accuracy: 0.9998\n",
            "Epoch 46: val_accuracy did not improve from 0.99512\n",
            "1018/1018 [==============================] - 37s 36ms/step - loss: 0.0013 - accuracy: 0.9998 - val_loss: 0.0240 - val_accuracy: 0.9936\n",
            "Epoch 47/75\n",
            "1017/1018 [============================>.] - ETA: 0s - loss: 0.0011 - accuracy: 0.9998\n",
            "Epoch 47: val_accuracy did not improve from 0.99512\n",
            "1018/1018 [==============================] - 37s 36ms/step - loss: 0.0011 - accuracy: 0.9998 - val_loss: 0.0209 - val_accuracy: 0.9948\n",
            "Epoch 48/75\n",
            "1017/1018 [============================>.] - ETA: 0s - loss: 8.8679e-04 - accuracy: 0.9999\n",
            "Epoch 48: val_accuracy did not improve from 0.99512\n",
            "1018/1018 [==============================] - 38s 37ms/step - loss: 8.8649e-04 - accuracy: 0.9999 - val_loss: 0.0266 - val_accuracy: 0.9934\n",
            "Epoch 49/75\n",
            "1017/1018 [============================>.] - ETA: 0s - loss: 8.3772e-04 - accuracy: 1.0000\n",
            "Epoch 49: val_accuracy did not improve from 0.99512\n",
            "1018/1018 [==============================] - 66s 65ms/step - loss: 8.3710e-04 - accuracy: 1.0000 - val_loss: 0.0233 - val_accuracy: 0.9941\n",
            "Epoch 50/75\n",
            "1018/1018 [==============================] - ETA: 0s - loss: 0.0014 - accuracy: 0.9997\n",
            "Epoch 50: val_accuracy did not improve from 0.99512\n",
            "1018/1018 [==============================] - 73s 72ms/step - loss: 0.0014 - accuracy: 0.9997 - val_loss: 0.0260 - val_accuracy: 0.9940\n",
            "Epoch 51/75\n",
            "1017/1018 [============================>.] - ETA: 0s - loss: 0.0010 - accuracy: 0.9999\n",
            "Epoch 51: val_accuracy did not improve from 0.99512\n",
            "1018/1018 [==============================] - 74s 73ms/step - loss: 0.0010 - accuracy: 0.9999 - val_loss: 0.0234 - val_accuracy: 0.9936\n",
            "Epoch 52/75\n",
            "1018/1018 [==============================] - ETA: 0s - loss: 8.0887e-04 - accuracy: 0.9999\n",
            "Epoch 52: val_accuracy did not improve from 0.99512\n",
            "1018/1018 [==============================] - 50s 49ms/step - loss: 8.0887e-04 - accuracy: 0.9999 - val_loss: 0.0229 - val_accuracy: 0.9941\n",
            "Epoch 53/75\n",
            "1017/1018 [============================>.] - ETA: 0s - loss: 0.0011 - accuracy: 0.9997\n",
            "Epoch 53: val_accuracy did not improve from 0.99512\n",
            "1018/1018 [==============================] - 37s 36ms/step - loss: 0.0011 - accuracy: 0.9997 - val_loss: 0.0239 - val_accuracy: 0.9940\n",
            "Epoch 54/75\n",
            "1017/1018 [============================>.] - ETA: 0s - loss: 6.1159e-04 - accuracy: 0.9999\n",
            "Epoch 54: val_accuracy did not improve from 0.99512\n",
            "1018/1018 [==============================] - 37s 36ms/step - loss: 6.1129e-04 - accuracy: 0.9999 - val_loss: 0.0216 - val_accuracy: 0.9950\n",
            "Epoch 55/75\n",
            "1017/1018 [============================>.] - ETA: 0s - loss: 7.7049e-04 - accuracy: 0.9999\n",
            "Epoch 55: val_accuracy did not improve from 0.99512\n",
            "1018/1018 [==============================] - 37s 37ms/step - loss: 7.7024e-04 - accuracy: 0.9999 - val_loss: 0.0235 - val_accuracy: 0.9941\n",
            "Epoch 56/75\n",
            "1017/1018 [============================>.] - ETA: 0s - loss: 0.0051 - accuracy: 0.9984\n",
            "Epoch 56: val_accuracy did not improve from 0.99512\n",
            "1018/1018 [==============================] - 37s 37ms/step - loss: 0.0051 - accuracy: 0.9984 - val_loss: 0.0376 - val_accuracy: 0.9897\n",
            "Epoch 57/75\n",
            "1017/1018 [============================>.] - ETA: 0s - loss: 0.0020 - accuracy: 0.9995\n",
            "Epoch 57: val_accuracy did not improve from 0.99512\n",
            "1018/1018 [==============================] - 37s 36ms/step - loss: 0.0020 - accuracy: 0.9995 - val_loss: 0.0279 - val_accuracy: 0.9929\n",
            "Epoch 58/75\n",
            "1017/1018 [============================>.] - ETA: 0s - loss: 9.3323e-04 - accuracy: 0.9999\n",
            "Epoch 58: val_accuracy did not improve from 0.99512\n",
            "1018/1018 [==============================] - 37s 37ms/step - loss: 9.3363e-04 - accuracy: 0.9999 - val_loss: 0.0226 - val_accuracy: 0.9944\n",
            "Epoch 59/75\n",
            "1017/1018 [============================>.] - ETA: 0s - loss: 0.0012 - accuracy: 0.9998\n",
            "Epoch 59: val_accuracy did not improve from 0.99512\n",
            "1018/1018 [==============================] - 37s 36ms/step - loss: 0.0012 - accuracy: 0.9998 - val_loss: 0.0266 - val_accuracy: 0.9926\n",
            "Epoch 60/75\n",
            "1017/1018 [============================>.] - ETA: 0s - loss: 6.3653e-04 - accuracy: 0.9999\n",
            "Epoch 60: val_accuracy did not improve from 0.99512\n",
            "1018/1018 [==============================] - 37s 36ms/step - loss: 6.3627e-04 - accuracy: 0.9999 - val_loss: 0.0210 - val_accuracy: 0.9941\n",
            "Epoch 61/75\n",
            "1017/1018 [============================>.] - ETA: 0s - loss: 9.8070e-04 - accuracy: 0.9998\n",
            "Epoch 61: val_accuracy did not improve from 0.99512\n",
            "1018/1018 [==============================] - 37s 36ms/step - loss: 9.8022e-04 - accuracy: 0.9998 - val_loss: 0.0235 - val_accuracy: 0.9935\n",
            "Epoch 62/75\n",
            "1017/1018 [============================>.] - ETA: 0s - loss: 0.0010 - accuracy: 0.9998\n",
            "Epoch 62: val_accuracy did not improve from 0.99512\n",
            "1018/1018 [==============================] - 37s 36ms/step - loss: 0.0010 - accuracy: 0.9998 - val_loss: 0.0228 - val_accuracy: 0.9936\n",
            "Epoch 63/75\n",
            "1017/1018 [============================>.] - ETA: 0s - loss: 6.6516e-04 - accuracy: 0.9999\n",
            "Epoch 63: val_accuracy did not improve from 0.99512\n",
            "1018/1018 [==============================] - 37s 37ms/step - loss: 6.6489e-04 - accuracy: 0.9999 - val_loss: 0.0226 - val_accuracy: 0.9945\n",
            "Epoch 64/75\n",
            "1017/1018 [============================>.] - ETA: 0s - loss: 6.3985e-04 - accuracy: 0.9999\n",
            "Epoch 64: val_accuracy did not improve from 0.99512\n",
            "1018/1018 [==============================] - 37s 37ms/step - loss: 6.3950e-04 - accuracy: 0.9999 - val_loss: 0.0234 - val_accuracy: 0.9946\n",
            "Epoch 65/75\n",
            "1017/1018 [============================>.] - ETA: 0s - loss: 4.7543e-04 - accuracy: 1.0000\n",
            "Epoch 65: val_accuracy did not improve from 0.99512\n",
            "1018/1018 [==============================] - 37s 36ms/step - loss: 4.7511e-04 - accuracy: 1.0000 - val_loss: 0.0208 - val_accuracy: 0.9950\n",
            "Epoch 66/75\n",
            "1017/1018 [============================>.] - ETA: 0s - loss: 5.2835e-04 - accuracy: 0.9998\n",
            "Epoch 66: val_accuracy did not improve from 0.99512\n",
            "1018/1018 [==============================] - 37s 36ms/step - loss: 5.2845e-04 - accuracy: 0.9998 - val_loss: 0.0205 - val_accuracy: 0.9948\n",
            "Epoch 67/75\n",
            "1018/1018 [==============================] - ETA: 0s - loss: 0.0012 - accuracy: 0.9997\n",
            "Epoch 67: val_accuracy did not improve from 0.99512\n",
            "1018/1018 [==============================] - 37s 37ms/step - loss: 0.0012 - accuracy: 0.9997 - val_loss: 0.0234 - val_accuracy: 0.9942\n",
            "Epoch 68/75\n",
            "1017/1018 [============================>.] - ETA: 0s - loss: 5.5385e-04 - accuracy: 1.0000\n",
            "Epoch 68: val_accuracy did not improve from 0.99512\n",
            "1018/1018 [==============================] - 37s 37ms/step - loss: 5.5361e-04 - accuracy: 1.0000 - val_loss: 0.0215 - val_accuracy: 0.9945\n",
            "Epoch 69/75\n",
            "1017/1018 [============================>.] - ETA: 0s - loss: 9.1145e-04 - accuracy: 0.9999\n",
            "Epoch 69: val_accuracy did not improve from 0.99512\n",
            "1018/1018 [==============================] - 37s 37ms/step - loss: 9.1091e-04 - accuracy: 0.9999 - val_loss: 0.0315 - val_accuracy: 0.9920\n",
            "Epoch 70/75\n",
            "1017/1018 [============================>.] - ETA: 0s - loss: 7.1847e-04 - accuracy: 0.9999\n",
            "Epoch 70: val_accuracy did not improve from 0.99512\n",
            "1018/1018 [==============================] - 37s 36ms/step - loss: 7.1801e-04 - accuracy: 0.9999 - val_loss: 0.0235 - val_accuracy: 0.9937\n",
            "Epoch 71/75\n",
            "1017/1018 [============================>.] - ETA: 0s - loss: 4.0827e-04 - accuracy: 1.0000\n",
            "Epoch 71: val_accuracy did not improve from 0.99512\n",
            "1018/1018 [==============================] - 37s 36ms/step - loss: 4.0819e-04 - accuracy: 1.0000 - val_loss: 0.0213 - val_accuracy: 0.9948\n",
            "Epoch 72/75\n",
            "1017/1018 [============================>.] - ETA: 0s - loss: 4.5442e-04 - accuracy: 1.0000\n",
            "Epoch 72: val_accuracy did not improve from 0.99512\n",
            "1018/1018 [==============================] - 37s 37ms/step - loss: 4.5448e-04 - accuracy: 1.0000 - val_loss: 0.0228 - val_accuracy: 0.9938\n",
            "Epoch 73/75\n",
            "1017/1018 [============================>.] - ETA: 0s - loss: 5.0365e-04 - accuracy: 0.9999\n",
            "Epoch 73: val_accuracy did not improve from 0.99512\n",
            "1018/1018 [==============================] - 37s 37ms/step - loss: 5.0330e-04 - accuracy: 0.9999 - val_loss: 0.0211 - val_accuracy: 0.9948\n",
            "Epoch 74/75\n",
            "1017/1018 [============================>.] - ETA: 0s - loss: 6.2079e-04 - accuracy: 0.9999\n",
            "Epoch 74: val_accuracy did not improve from 0.99512\n",
            "1018/1018 [==============================] - 38s 37ms/step - loss: 6.2033e-04 - accuracy: 0.9999 - val_loss: 0.0221 - val_accuracy: 0.9946\n",
            "Epoch 75/75\n",
            "1017/1018 [============================>.] - ETA: 0s - loss: 5.8096e-04 - accuracy: 0.9999\n",
            "Epoch 75: val_accuracy improved from 0.99512 to 0.99521, saving model to PlantVillage-2Path-LAB-m4-0.0-best_result.hdf5\n"
          ]
        },
        {
          "output_type": "stream",
          "name": "stderr",
          "text": [
            "/usr/local/lib/python3.10/dist-packages/keras/src/engine/training.py:3103: UserWarning: You are saving your model as an HDF5 file via `model.save()`. This file format is considered legacy. We recommend using instead the native Keras format, e.g. `model.save('my_model.keras')`.\n",
            "  saving_api.save_model(\n"
          ]
        },
        {
          "output_type": "stream",
          "name": "stdout",
          "text": [
            "\b\b\b\b\b\b\b\b\b\b\b\b\b\b\b\b\b\b\b\b\b\b\b\b\b\b\b\b\b\b\b\b\b\b\b\b\b\b\b\b\b\b\b\b\b\b\b\b\b\b\b\b\b\b\b\b\b\b\b\b\b\b\b\b\b\b\b\b\b\b\b\b\b\b\b\b\b\b\b\b\b\b\b\b\b\b\b\b\b\b\r1018/1018 [==============================] - 38s 37ms/step - loss: 5.8061e-04 - accuracy: 0.9999 - val_loss: 0.0212 - val_accuracy: 0.9952\n",
            "Testing Last Model: PlantVillage-2Path-LAB-m4-0.0\n",
            "340/340 [==============================] - 5s 15ms/step - loss: 0.0283 - accuracy: 0.9928\n",
            "loss 0.02831396833062172\n",
            "acc 0.9928282499313354\n",
            "Finished: PlantVillage-2Path-LAB-m4-0.0\n"
          ]
        }
      ]
    },
    {
      "cell_type": "markdown",
      "source": [
        "# Best Model Results"
      ],
      "metadata": {
        "id": "Mf_kuKxm5Kf9"
      }
    },
    {
      "cell_type": "code",
      "source": [
        "for l_ratio in [0.0,0.25,0.5,0.75,1.0]:\n",
        "\n",
        "    basefilename = 'PlantVillage-2Path-LAB-m4-' + str(l_ratio)\n",
        "    print('Running: '+basefilename)\n",
        "\n",
        "    best_result_file_name = basefilename+'-best_result.hdf5'\n",
        "\n",
        "    model = tf.keras.models.load_model(\n",
        "        best_result_file_name,\n",
        "        custom_objects={'CopyChannels': cai.layers.CopyChannels}\n",
        "    )\n",
        "\n",
        "    evaluated = model.evaluate(test_x,test_y)\n",
        "\n",
        "    # cai.models.save_model(model, basefilename)\n",
        "\n",
        "    for metric, name in zip(evaluated,[\"loss\",\"acc\",\"top 5 acc\"]):\n",
        "        print(name,metric)\n",
        "\n",
        "    print('Finished: '+basefilename)"
      ],
      "metadata": {
        "execution": {
          "iopub.status.busy": "2024-01-13T13:11:43.509984Z",
          "iopub.execute_input": "2024-01-13T13:11:43.510868Z",
          "iopub.status.idle": "2024-01-13T13:12:27.708891Z",
          "shell.execute_reply.started": "2024-01-13T13:11:43.510838Z",
          "shell.execute_reply": "2024-01-13T13:12:27.707873Z"
        },
        "id": "QMB1J8Ov5Kf_"
      },
      "execution_count": null,
      "outputs": []
    },
    {
      "cell_type": "markdown",
      "source": [
        "# F1 Results"
      ],
      "metadata": {
        "id": "MVOAibYn5KgB"
      }
    },
    {
      "cell_type": "code",
      "source": [
        "for l_ratio in [0.0,0.25,0.5,0.75,1.0]:\n",
        "\n",
        "    basefilename = 'PlantVillage-2Path-LAB-m4-' + str(l_ratio)\n",
        "    print('Running: '+basefilename)\n",
        "\n",
        "    best_result_file_name = basefilename+'-best_result.hdf5'\n",
        "\n",
        "    model = tf.keras.models.load_model(\n",
        "        best_result_file_name,\n",
        "        custom_objects={'CopyChannels': cai.layers.CopyChannels}\n",
        "    )\n",
        "\n",
        "    pred_y = model.predict(test_x)\n",
        "    print(\"Predicted Shape:\", pred_y.shape)\n",
        "    pred_classes_y = np.array(list(np.argmax(pred_y, axis=1)))\n",
        "    test_classes_y = np.array(list(np.argmax(test_y, axis=1)))\n",
        "    print(\"Pred classes shape:\",pred_classes_y.shape)\n",
        "    print(\"Test classes shape:\",test_classes_y.shape)\n",
        "    report = classification_report(test_classes_y, pred_classes_y, digits=4)\n",
        "    print(report)"
      ],
      "metadata": {
        "execution": {
          "iopub.status.busy": "2024-01-16T17:58:50.369763Z",
          "iopub.execute_input": "2024-01-16T17:58:50.370156Z",
          "iopub.status.idle": "2024-01-16T17:59:43.182002Z",
          "shell.execute_reply.started": "2024-01-16T17:58:50.370115Z",
          "shell.execute_reply": "2024-01-16T17:59:43.180942Z"
        },
        "trusted": true,
        "id": "IKfJcdCW5KgB"
      },
      "execution_count": null,
      "outputs": []
    },
    {
      "cell_type": "markdown",
      "source": [
        "# Confusion Matrix Results"
      ],
      "metadata": {
        "id": "rwa133Lw5KgC"
      }
    },
    {
      "cell_type": "code",
      "source": [
        "for l_ratio in [0.0,0.25,0.5,0.75,1.0]:\n",
        "\n",
        "    basefilename = 'PlantVillage-2Path-LAB-m4-' + str(l_ratio)\n",
        "    print('Running: '+basefilename)\n",
        "\n",
        "    best_result_file_name = basefilename+'-best_result.hdf5'\n",
        "\n",
        "    model = tf.keras.models.load_model(\n",
        "        best_result_file_name,\n",
        "        custom_objects={'CopyChannels': cai.layers.CopyChannels}\n",
        "    )\n",
        "\n",
        "    # Make predictions\n",
        "    y_pred_prob = model.predict(test_x)\n",
        "    y_pred = np.argmax(y_pred_prob, axis=1)\n",
        "\n",
        "    # Create the confusion matrix\n",
        "    cm = confusion_matrix(np.argmax(test_y, axis=1), y_pred)\n",
        "\n",
        "    # Visualize the confusion matrix using seaborn\n",
        "    plt.figure(figsize=(8, 6))\n",
        "    sns.heatmap(cm, annot=False, fmt='d', cmap='Blues', cbar=False,\n",
        "                xticklabels=label_of_classes, yticklabels=label_of_classes)\n",
        "    plt.title('Confusion Matrix')\n",
        "    plt.xlabel('Predicted')\n",
        "    plt.ylabel('True')\n",
        "\n",
        "    figfilename = basefilename+'-CF.png'\n",
        "    plt.savefig(figfilename)\n",
        "\n",
        "    plt.show()"
      ],
      "metadata": {
        "execution": {
          "iopub.status.busy": "2024-01-13T13:47:17.224976Z",
          "iopub.execute_input": "2024-01-13T13:47:17.225909Z",
          "iopub.status.idle": "2024-01-13T13:48:06.426780Z",
          "shell.execute_reply.started": "2024-01-13T13:47:17.225873Z",
          "shell.execute_reply": "2024-01-13T13:48:06.425837Z"
        },
        "id": "vCVocBIW5KgC"
      },
      "execution_count": null,
      "outputs": []
    },
    {
      "cell_type": "code",
      "source": [
        "# FIT MODELS for History\n",
        "for l_ratio in [0.25]:\n",
        "\n",
        "    basefilename = 'History-PlantVillage-2Path-LAB-m4-' + str(l_ratio)\n",
        "    print('Running: '+basefilename)\n",
        "\n",
        "    model = cai.models.compiled_two_path_inception_v3(\n",
        "        input_shape=input_shape,\n",
        "        classes=number_of_classes,\n",
        "        two_paths_first_block=True,\n",
        "        two_paths_second_block=False,\n",
        "        l_ratio=l_ratio,\n",
        "        ab_ratio=(1-l_ratio),\n",
        "        max_mix_idx=4,\n",
        "        model_name='two_path_inception_v3'\n",
        "    )\n",
        "\n",
        "    best_result_file_name = basefilename+'-best_result.hdf5'\n",
        "\n",
        "    save_best = tf.keras.callbacks.ModelCheckpoint(\n",
        "        filepath=best_result_file_name,\n",
        "        monitor=monitor,\n",
        "        verbose=1,\n",
        "        save_best_only=True,\n",
        "        save_weights_only=False,\n",
        "        mode='max',\n",
        "        save_freq='epoch'\n",
        "    )\n",
        "\n",
        "    history = model.fit(\n",
        "        train_x,\n",
        "        train_y,\n",
        "        epochs=120,\n",
        "        batch_size=batch_size,\n",
        "        validation_data=(val_x,val_y),\n",
        "        callbacks=[save_best],\n",
        "        class_weight=classweight,\n",
        "        workers=multiprocessing.cpu_count()\n",
        "    )\n",
        "\n",
        "    print('Testing Last Model: '+basefilename)\n",
        "\n",
        "    evaluated = model.evaluate(test_x,test_y)\n",
        "\n",
        "    for metric, name in zip(evaluated,[\"loss\",\"acc\",\"top 5 acc\"]):\n",
        "        print(name,metric)\n",
        "\n",
        "#     print('Best Model Results: '+basefilename)\n",
        "\n",
        "#     model = tf.keras.models.load_model(\n",
        "#         best_result_file_name,\n",
        "#         custom_objects={'CopyChannels': cai.layers.CopyChannels}\n",
        "#     )\n",
        "\n",
        "#     evaluated = model.evaluate(test_x,test_y)\n",
        "\n",
        "#     cai.models.save_model(model, basefilename)\n",
        "\n",
        "#     for metric, name in zip(evaluated,[\"loss\",\"acc\",\"top 5 acc\"]):\n",
        "#         print(name,metric)\n",
        "\n",
        "    print('Finished: '+basefilename)"
      ],
      "metadata": {
        "execution": {
          "iopub.status.busy": "2024-01-16T16:39:17.241448Z",
          "iopub.execute_input": "2024-01-16T16:39:17.242221Z",
          "iopub.status.idle": "2024-01-16T17:55:50.297659Z",
          "shell.execute_reply.started": "2024-01-16T16:39:17.242181Z",
          "shell.execute_reply": "2024-01-16T17:55:50.296646Z"
        },
        "trusted": true,
        "id": "PXEozUcL5KgE"
      },
      "execution_count": null,
      "outputs": []
    },
    {
      "cell_type": "markdown",
      "source": [
        "# Plot History"
      ],
      "metadata": {
        "id": "5R9wa_Tm5KgE"
      }
    },
    {
      "cell_type": "code",
      "source": [
        "plt.figure(figsize=(12, 6))\n",
        "\n",
        "# Plot training & validation loss values\n",
        "plt.subplot(1, 2, 1)\n",
        "plt.plot(history.history['loss'])\n",
        "plt.plot(history.history['val_loss'])\n",
        "plt.title('Model Loss')\n",
        "plt.xlabel('Epoch')\n",
        "plt.ylabel('Loss')\n",
        "plt.legend(['Train', 'Validation'], loc='upper right')\n",
        "plt.ylim(bottom=0, top=1.5)\n",
        "\n",
        "# Plot training & validation accuracy values\n",
        "plt.subplot(1, 2, 2)\n",
        "plt.plot(history.history['accuracy'])\n",
        "plt.plot(history.history['val_accuracy'])\n",
        "plt.title('Model Accuracy')\n",
        "plt.xlabel('Epoch')\n",
        "plt.ylabel('Accuracy')\n",
        "plt.legend(['Train', 'Validation'], loc='lower right')\n",
        "\n",
        "plt.savefig('PlantVillage-2Path-LAB-m4-0.00-History.png')\n",
        "\n",
        "plt.tight_layout()\n",
        "plt.show()"
      ],
      "metadata": {
        "execution": {
          "iopub.status.busy": "2024-01-16T17:55:59.900275Z",
          "iopub.execute_input": "2024-01-16T17:55:59.900643Z",
          "iopub.status.idle": "2024-01-16T17:56:00.940373Z",
          "shell.execute_reply.started": "2024-01-16T17:55:59.900611Z",
          "shell.execute_reply": "2024-01-16T17:56:00.939488Z"
        },
        "trusted": true,
        "colab": {
          "base_uri": "https://localhost:8080/",
          "height": 432
        },
        "id": "qKs7DdwQ5KgE",
        "outputId": "f36582e3-065b-4c22-bab5-2391ae1a2835"
      },
      "execution_count": 22,
      "outputs": [
        {
          "output_type": "display_data",
          "data": {
            "text/plain": [
              "<Figure size 1200x600 with 2 Axes>"
            ],
            "image/png": "[encoded data removed]"
          },
          "metadata": {}
        }
      ]
    },
    {
      "cell_type": "code",
      "source": [
        "import pickle\n",
        "# Save all histories as a single pickle file (optional)\n",
        "with open('history_000.pkl', 'wb') as file:\n",
        "    pickle.dump(history, file)"
      ],
      "metadata": {
        "execution": {
          "iopub.status.busy": "2024-01-16T17:57:38.076944Z",
          "iopub.execute_input": "2024-01-16T17:57:38.077342Z",
          "iopub.status.idle": "2024-01-16T17:57:39.458518Z",
          "shell.execute_reply.started": "2024-01-16T17:57:38.077313Z",
          "shell.execute_reply": "2024-01-16T17:57:39.457578Z"
        },
        "trusted": true,
        "id": "mso9uocH5KgF"
      },
      "execution_count": 23,
      "outputs": []
    },
    {
      "cell_type": "markdown",
      "source": [
        "arr_basefilename = []\n",
        "\n",
        "for two_paths_second_block in [False, True]:\n",
        "    for l_ratio in [0.0,0.25,0.5,0.75,1.0]:\n",
        "        \n",
        "        basefilename = 'Apple13-twoPath-inception-' + str(two_paths_second_block) + '-' + str(l_ratio)  \n",
        "        \n",
        "        arr_basefilename.append(basefilename)\n",
        "        "
      ],
      "metadata": {
        "execution": {
          "iopub.status.busy": "2024-01-13T13:55:47.323172Z",
          "iopub.execute_input": "2024-01-13T13:55:47.323914Z",
          "iopub.status.idle": "2024-01-13T13:55:47.329332Z",
          "shell.execute_reply.started": "2024-01-13T13:55:47.323882Z",
          "shell.execute_reply": "2024-01-13T13:55:47.328401Z"
        },
        "id": "f3o1x_Un5KgF"
      }
    },
    {
      "cell_type": "markdown",
      "source": [
        "print(arr_basefilename)"
      ],
      "metadata": {
        "execution": {
          "iopub.status.busy": "2024-01-13T13:55:55.771547Z",
          "iopub.execute_input": "2024-01-13T13:55:55.772255Z",
          "iopub.status.idle": "2024-01-13T13:55:55.776711Z",
          "shell.execute_reply.started": "2024-01-13T13:55:55.772222Z",
          "shell.execute_reply": "2024-01-13T13:55:55.775775Z"
        },
        "id": "FF4A2tmy5KgF"
      }
    },
    {
      "cell_type": "code",
      "source": [
        "del save_best"
      ],
      "metadata": {
        "id": "K3n5dQxF3bry"
      },
      "execution_count": 33,
      "outputs": []
    },
    {
      "cell_type": "code",
      "source": [
        "from google.colab import drive\n",
        "drive.mount('/content/drive')"
      ],
      "metadata": {
        "colab": {
          "base_uri": "https://localhost:8080/"
        },
        "id": "hkw1RC_84ktz",
        "outputId": "b0d94229-eac0-4005-e83a-c0394ae181f4"
      },
      "execution_count": 42,
      "outputs": [
        {
          "output_type": "stream",
          "name": "stdout",
          "text": [
            "Mounted at /content/drive\n"
          ]
        }
      ]
    },
    {
      "cell_type": "code",
      "source": [
        "!cp *.png *.hdf5 *.pkl drive/MyDrive/Colab/"
      ],
      "metadata": {
        "id": "x5zXfqVW-pCH"
      },
      "execution_count": 44,
      "outputs": []
    }
  ]
}